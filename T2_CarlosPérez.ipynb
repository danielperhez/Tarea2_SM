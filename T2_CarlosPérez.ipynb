{
 "cells": [
  {
   "cell_type": "markdown",
   "metadata": {},
   "source": [
    "## Python: 7 Important Reasons Why You Should Use Python"
   ]
  },
  {
   "cell_type": "markdown",
   "metadata": {},
   "source": [
    "### 1. Código legible y mantenible\n",
    "> La sintaxis de Python es fácil de comprender y puedes entender rápidamente la forma de programar. Python te deja utilizar palabras claves en ingles, en lugar de utilizar puntuaciones. La forma fácil de comprender y lo limpio que es el código te ayudan a mantener actualizado el documento sin poner algún esfuerzo extra."
   ]
  },
  {
   "cell_type": "markdown",
   "metadata": {},
   "source": [
    "### 2. Múltiples paradigmas de programación\n",
    "> Los paradigmas de programación y las características del lenguaje te ayudan a utilizar Python para desarrollar aplicaciones de software grandes y complejas. "
   ]
  },
  {
   "cell_type": "markdown",
   "metadata": {},
   "source": [
    "### 3. Compatible con las principales plataformas y sistemas\n",
    "> Te permite correr el mismo código en diferentes plataformas sin tener que compilar. Puedes revisar los cambios que se generaron en el programa de manera inmediata sin la necesidad de compilar. Esta característica te facilita el hacer cambios en los programas sin aumentar el tiempo invertido. "
   ]
  },
  {
   "cell_type": "markdown",
   "metadata": {},
   "source": [
    "### 4. Biblioteca estándar robusta\n",
    "> Las librerías que Python contiene te permiten escoger la que más necesites en el momento para trabajar. Estas librerías hacen que el tiempo que puedas gastar en otras aplicaciones, en python se reduzca y tener un resultado igual o mejor."
   ]
  },
  {
   "cell_type": "markdown",
   "metadata": {},
   "source": [
    "### 5. Muchos marcos y herramientas de código abierto\n",
    "> Python te ayuda a reducir significativamente los costos de desarrollo de software. Incluso, puedes utilizar estas herramientas de código abierto para reducir el tiempo de desarrollo sin aumentar el costo de desarrollo. Puedes acelerar el proceso de creación de páginas web y aplicaciones con las herramientas que Python ofrece. "
   ]
  },
  {
   "cell_type": "markdown",
   "metadata": {},
   "source": [
    "### 6. Simplifique el desarrollo de software complejo\n",
    "> Puedes utilizar Python para desarrollar aplicaciones científicas y numéricas complejas. Python fue diseñado para simplificar las bases de datos y la visualización de la misma. Muchos desarrolladores de Python incluso usan Python para realizar tareas de procesamiento de lenguaje natural e inteligencia artificial (IA)."
   ]
  },
  {
   "cell_type": "markdown",
   "metadata": {},
   "source": [
    "### 7. Adopte el desarrollo basado en pruebas\n",
    "> Puedes utilizar Python para crear un prototipo de la aplicación de software rápidamente. También, puedes crear el software de la aplicaicón directamente del prototipo simplemente cambaindo el código de Python. Python es más lento que Java y C++ pero siempre es más facil de utilizar si eres nuevo o ya llevas recorrido en la programación. "
   ]
  },
  {
   "cell_type": "markdown",
   "metadata": {},
   "source": [
    "[Página Web](https://medium.com/@mindfiresolutions.usa/python-7-important-reasons-why-you-should-use-python-5801a98a0d0b)"
   ]
  },
  {
   "cell_type": "code",
   "execution_count": null,
   "metadata": {},
   "outputs": [],
   "source": []
  }
 ],
 "metadata": {
  "kernelspec": {
   "display_name": "Python 3",
   "language": "python",
   "name": "python3"
  },
  "language_info": {
   "codemirror_mode": {
    "name": "ipython",
    "version": 3
   },
   "file_extension": ".py",
   "mimetype": "text/x-python",
   "name": "python",
   "nbconvert_exporter": "python",
   "pygments_lexer": "ipython3",
   "version": "3.8.3"
  }
 },
 "nbformat": 4,
 "nbformat_minor": 4
}
